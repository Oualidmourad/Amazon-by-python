{
 "cells": [
  {
   "cell_type": "code",
   "execution_count": 1,
   "id": "db25b8a0",
   "metadata": {},
   "outputs": [],
   "source": [
    "import numpy as np\n",
    "import pandas as pd\n",
    "import seaborn as sns\n",
    "import matplotlib.pyplot as plt"
   ]
  },
  {
   "cell_type": "code",
   "execution_count": 2,
   "id": "2b41d1de",
   "metadata": {},
   "outputs": [],
   "source": [
    "df=pd.read_excel(\"D:\\Courses\\projects\\Amazon- Movies and Films\\Amazon- Movies and Films.xlsx\")"
   ]
  },
  {
   "cell_type": "code",
   "execution_count": 3,
   "id": "d6aafb51",
   "metadata": {},
   "outputs": [
    {
     "data": {
      "text/html": [
       "<div>\n",
       "<style scoped>\n",
       "    .dataframe tbody tr th:only-of-type {\n",
       "        vertical-align: middle;\n",
       "    }\n",
       "\n",
       "    .dataframe tbody tr th {\n",
       "        vertical-align: top;\n",
       "    }\n",
       "\n",
       "    .dataframe thead th {\n",
       "        text-align: right;\n",
       "    }\n",
       "</style>\n",
       "<table border=\"1\" class=\"dataframe\">\n",
       "  <thead>\n",
       "    <tr style=\"text-align: right;\">\n",
       "      <th></th>\n",
       "      <th>Unnamed: 0</th>\n",
       "      <th>title</th>\n",
       "      <th>Unnamed: 2</th>\n",
       "      <th>No_of_Ratings</th>\n",
       "      <th>Format</th>\n",
       "      <th>ReleaseYear</th>\n",
       "      <th>MPAA_Rating</th>\n",
       "      <th>Directed_By</th>\n",
       "      <th>Starring</th>\n",
       "      <th>Price</th>\n",
       "    </tr>\n",
       "  </thead>\n",
       "  <tbody>\n",
       "    <tr>\n",
       "      <th>0</th>\n",
       "      <td>0</td>\n",
       "      <td>Totally Killer</td>\n",
       "      <td>4.3</td>\n",
       "      <td>323</td>\n",
       "      <td>Prime Video</td>\n",
       "      <td>2023.0</td>\n",
       "      <td>R</td>\n",
       "      <td>Nahnatchka Khan</td>\n",
       "      <td>Kiernan Shipka,Olivia Holt,Julie Bowen</td>\n",
       "      <td>NaN</td>\n",
       "    </tr>\n",
       "    <tr>\n",
       "      <th>1</th>\n",
       "      <td>1</td>\n",
       "      <td>Guy Ritchie's The Covenant</td>\n",
       "      <td>4.7</td>\n",
       "      <td>13268</td>\n",
       "      <td>Prime Video</td>\n",
       "      <td>2023.0</td>\n",
       "      <td>R</td>\n",
       "      <td>Guy Ritchie</td>\n",
       "      <td>Jake Gyllenhaal,Dar Salim,Antony Starr</td>\n",
       "      <td>5.99</td>\n",
       "    </tr>\n",
       "    <tr>\n",
       "      <th>2</th>\n",
       "      <td>2</td>\n",
       "      <td>A Million Miles Away</td>\n",
       "      <td>4.9</td>\n",
       "      <td>1126</td>\n",
       "      <td>Prime Video</td>\n",
       "      <td>2023.0</td>\n",
       "      <td>PG</td>\n",
       "      <td>Alejandra MÃ¡rquez Abella</td>\n",
       "      <td>Michael PeÃ±a,Rosa Salazar</td>\n",
       "      <td>NaN</td>\n",
       "    </tr>\n",
       "    <tr>\n",
       "      <th>3</th>\n",
       "      <td>3</td>\n",
       "      <td>Kelce</td>\n",
       "      <td>5.0</td>\n",
       "      <td>570</td>\n",
       "      <td>Prime Video</td>\n",
       "      <td>2023.0</td>\n",
       "      <td>NaN</td>\n",
       "      <td>Don Argott</td>\n",
       "      <td>Jason Kelce,Travis Kelce,Kylie Kelce,Connor Ba...</td>\n",
       "      <td>NaN</td>\n",
       "    </tr>\n",
       "    <tr>\n",
       "      <th>4</th>\n",
       "      <td>4</td>\n",
       "      <td>Despicable Me 3</td>\n",
       "      <td>4.8</td>\n",
       "      <td>31813</td>\n",
       "      <td>Prime Video</td>\n",
       "      <td>2017.0</td>\n",
       "      <td>PG</td>\n",
       "      <td>Pierre Coffin,Kyle Balda</td>\n",
       "      <td>Steve Carell,Kristen Wiig,Trey Parker</td>\n",
       "      <td>NaN</td>\n",
       "    </tr>\n",
       "    <tr>\n",
       "      <th>...</th>\n",
       "      <td>...</td>\n",
       "      <td>...</td>\n",
       "      <td>...</td>\n",
       "      <td>...</td>\n",
       "      <td>...</td>\n",
       "      <td>...</td>\n",
       "      <td>...</td>\n",
       "      <td>...</td>\n",
       "      <td>...</td>\n",
       "      <td>...</td>\n",
       "    </tr>\n",
       "    <tr>\n",
       "      <th>2103</th>\n",
       "      <td>2112</td>\n",
       "      <td>NaN</td>\n",
       "      <td>4.8</td>\n",
       "      <td>30</td>\n",
       "      <td>Prime Video</td>\n",
       "      <td>2023.0</td>\n",
       "      <td>NaN</td>\n",
       "      <td>Magnus Gertten</td>\n",
       "      <td>Nelly Mousset-Vos,Nadine Hwang,Anne Bianchi</td>\n",
       "      <td>2.99</td>\n",
       "    </tr>\n",
       "    <tr>\n",
       "      <th>2104</th>\n",
       "      <td>2113</td>\n",
       "      <td>NaN</td>\n",
       "      <td>5.0</td>\n",
       "      <td>2</td>\n",
       "      <td>Prime Video</td>\n",
       "      <td>2023.0</td>\n",
       "      <td>NaN</td>\n",
       "      <td>Joe Carroll</td>\n",
       "      <td>Brittany Inge,Nathan Owens,James Black,Dorian ...</td>\n",
       "      <td>NaN</td>\n",
       "    </tr>\n",
       "    <tr>\n",
       "      <th>2105</th>\n",
       "      <td>2114</td>\n",
       "      <td>NaN</td>\n",
       "      <td>4.8</td>\n",
       "      <td>26335</td>\n",
       "      <td>Prime Video</td>\n",
       "      <td>2016.0</td>\n",
       "      <td>PG</td>\n",
       "      <td>Ron Clements,John Musker</td>\n",
       "      <td>Auli'i Cravalho,Dwayne Johnson,Rachel House</td>\n",
       "      <td>9.99</td>\n",
       "    </tr>\n",
       "    <tr>\n",
       "      <th>2106</th>\n",
       "      <td>2115</td>\n",
       "      <td>Honey Boy</td>\n",
       "      <td>4.4</td>\n",
       "      <td>1338</td>\n",
       "      <td>Prime Video</td>\n",
       "      <td>2019.0</td>\n",
       "      <td>R</td>\n",
       "      <td>Alma Harâ€™el</td>\n",
       "      <td>Shia LaBeouf,Lucas Hedges,Noah Jupe,FKA twigs</td>\n",
       "      <td>NaN</td>\n",
       "    </tr>\n",
       "    <tr>\n",
       "      <th>2107</th>\n",
       "      <td>2116</td>\n",
       "      <td>Jumanji: Welcome to the Jungle</td>\n",
       "      <td>4.7</td>\n",
       "      <td>96699</td>\n",
       "      <td>Prime Video</td>\n",
       "      <td>2017.0</td>\n",
       "      <td>PG-13</td>\n",
       "      <td>Jake Kasdan</td>\n",
       "      <td>Dwayne Johnson,Kevin Hart,Jack Black,Karen Gillan</td>\n",
       "      <td>3.59</td>\n",
       "    </tr>\n",
       "  </tbody>\n",
       "</table>\n",
       "<p>2108 rows × 10 columns</p>\n",
       "</div>"
      ],
      "text/plain": [
       "      Unnamed: 0                           title  Unnamed: 2  No_of_Ratings  \\\n",
       "0              0                  Totally Killer         4.3            323   \n",
       "1              1      Guy Ritchie's The Covenant         4.7          13268   \n",
       "2              2            A Million Miles Away         4.9           1126   \n",
       "3              3                           Kelce         5.0            570   \n",
       "4              4                 Despicable Me 3         4.8          31813   \n",
       "...          ...                             ...         ...            ...   \n",
       "2103        2112                             NaN         4.8             30   \n",
       "2104        2113                             NaN         5.0              2   \n",
       "2105        2114                             NaN         4.8          26335   \n",
       "2106        2115                       Honey Boy         4.4           1338   \n",
       "2107        2116  Jumanji: Welcome to the Jungle         4.7          96699   \n",
       "\n",
       "           Format  ReleaseYear MPAA_Rating                Directed_By  \\\n",
       "0     Prime Video       2023.0           R            Nahnatchka Khan   \n",
       "1     Prime Video       2023.0           R                Guy Ritchie   \n",
       "2     Prime Video       2023.0          PG  Alejandra MÃ¡rquez Abella   \n",
       "3     Prime Video       2023.0         NaN                 Don Argott   \n",
       "4     Prime Video       2017.0          PG   Pierre Coffin,Kyle Balda   \n",
       "...           ...          ...         ...                        ...   \n",
       "2103  Prime Video       2023.0         NaN             Magnus Gertten   \n",
       "2104  Prime Video       2023.0         NaN                Joe Carroll   \n",
       "2105  Prime Video       2016.0          PG   Ron Clements,John Musker   \n",
       "2106  Prime Video       2019.0           R              Alma Harâ€™el   \n",
       "2107  Prime Video       2017.0       PG-13                Jake Kasdan   \n",
       "\n",
       "                                               Starring  Price  \n",
       "0                Kiernan Shipka,Olivia Holt,Julie Bowen    NaN  \n",
       "1                Jake Gyllenhaal,Dar Salim,Antony Starr   5.99  \n",
       "2                            Michael PeÃ±a,Rosa Salazar    NaN  \n",
       "3     Jason Kelce,Travis Kelce,Kylie Kelce,Connor Ba...    NaN  \n",
       "4                 Steve Carell,Kristen Wiig,Trey Parker    NaN  \n",
       "...                                                 ...    ...  \n",
       "2103        Nelly Mousset-Vos,Nadine Hwang,Anne Bianchi   2.99  \n",
       "2104  Brittany Inge,Nathan Owens,James Black,Dorian ...    NaN  \n",
       "2105        Auli'i Cravalho,Dwayne Johnson,Rachel House   9.99  \n",
       "2106      Shia LaBeouf,Lucas Hedges,Noah Jupe,FKA twigs    NaN  \n",
       "2107  Dwayne Johnson,Kevin Hart,Jack Black,Karen Gillan   3.59  \n",
       "\n",
       "[2108 rows x 10 columns]"
      ]
     },
     "execution_count": 3,
     "metadata": {},
     "output_type": "execute_result"
    }
   ],
   "source": [
    "df"
   ]
  },
  {
   "cell_type": "code",
   "execution_count": 4,
   "id": "a8d619ef",
   "metadata": {},
   "outputs": [
    {
     "data": {
      "text/plain": [
       "Unnamed: 0          0\n",
       "title              51\n",
       "Unnamed: 2          0\n",
       "No_of_Ratings       0\n",
       "Format              0\n",
       "ReleaseYear        39\n",
       "MPAA_Rating       730\n",
       "Directed_By        65\n",
       "Starring            1\n",
       "Price            1097\n",
       "dtype: int64"
      ]
     },
     "execution_count": 4,
     "metadata": {},
     "output_type": "execute_result"
    }
   ],
   "source": [
    "df.isna().sum()"
   ]
  },
  {
   "cell_type": "code",
   "execution_count": 5,
   "id": "9a8ef646",
   "metadata": {},
   "outputs": [],
   "source": [
    "df.drop(['Unnamed: 0'],axis=1,inplace=True)"
   ]
  },
  {
   "cell_type": "code",
   "execution_count": 6,
   "id": "3dedcab0",
   "metadata": {},
   "outputs": [],
   "source": [
    "df.dropna(subset=['title'], inplace=True)"
   ]
  },
  {
   "cell_type": "code",
   "execution_count": 7,
   "id": "1710d92d",
   "metadata": {},
   "outputs": [
    {
     "data": {
      "text/plain": [
       "0       4.3\n",
       "1       4.7\n",
       "2       4.9\n",
       "3       5.0\n",
       "4       4.8\n",
       "       ... \n",
       "2067    4.0\n",
       "2081    4.2\n",
       "2084    4.6\n",
       "2106    4.4\n",
       "2107    4.7\n",
       "Name: Unnamed: 2, Length: 2057, dtype: float64"
      ]
     },
     "execution_count": 7,
     "metadata": {},
     "output_type": "execute_result"
    }
   ],
   "source": [
    "df['Unnamed: 2']"
   ]
  },
  {
   "cell_type": "code",
   "execution_count": 8,
   "id": "eb4ea0e1",
   "metadata": {},
   "outputs": [],
   "source": [
    "df.rename(columns={'Unnamed: 2':'Rate'},inplace=True)"
   ]
  },
  {
   "cell_type": "code",
   "execution_count": 9,
   "id": "85b46dfd",
   "metadata": {},
   "outputs": [
    {
     "data": {
      "text/plain": [
       "0"
      ]
     },
     "execution_count": 9,
     "metadata": {},
     "output_type": "execute_result"
    }
   ],
   "source": [
    "df['Rate'].isna().sum()"
   ]
  },
  {
   "cell_type": "code",
   "execution_count": 10,
   "id": "63acffa6",
   "metadata": {},
   "outputs": [
    {
     "data": {
      "text/plain": [
       "39"
      ]
     },
     "execution_count": 10,
     "metadata": {},
     "output_type": "execute_result"
    }
   ],
   "source": [
    "df['ReleaseYear'].isna().sum()"
   ]
  },
  {
   "cell_type": "code",
   "execution_count": 11,
   "id": "9567b864",
   "metadata": {},
   "outputs": [],
   "source": [
    "df.dropna(subset=['ReleaseYear'], inplace=True)"
   ]
  },
  {
   "cell_type": "code",
   "execution_count": 12,
   "id": "d1b7df7c",
   "metadata": {},
   "outputs": [
    {
     "data": {
      "text/plain": [
       "Prime Video     2008\n",
       "Prime; Video      10\n",
       "Name: Format, dtype: int64"
      ]
     },
     "execution_count": 12,
     "metadata": {},
     "output_type": "execute_result"
    }
   ],
   "source": [
    "df['Format'].value_counts()"
   ]
  },
  {
   "cell_type": "code",
   "execution_count": 13,
   "id": "197e124f",
   "metadata": {},
   "outputs": [],
   "source": [
    "values_to_delete = ['Prime Video']\n",
    "df = df[df['Format'].isin(values_to_delete)]"
   ]
  },
  {
   "cell_type": "code",
   "execution_count": 14,
   "id": "2de6af60",
   "metadata": {},
   "outputs": [],
   "source": [
    "df_copy = df.copy()\n",
    "df_copy.dropna(subset=['Directed_By'], inplace=True)"
   ]
  },
  {
   "cell_type": "code",
   "execution_count": 15,
   "id": "77980f19",
   "metadata": {},
   "outputs": [
    {
     "name": "stderr",
     "output_type": "stream",
     "text": [
      "C:\\Users\\walid\\AppData\\Local\\Temp\\ipykernel_11728\\2931403737.py:1: SettingWithCopyWarning: \n",
      "A value is trying to be set on a copy of a slice from a DataFrame\n",
      "\n",
      "See the caveats in the documentation: https://pandas.pydata.org/pandas-docs/stable/user_guide/indexing.html#returning-a-view-versus-a-copy\n",
      "  df.dropna(subset=['Directed_By'], inplace=True)\n"
     ]
    }
   ],
   "source": [
    "df.dropna(subset=['Directed_By'], inplace=True)"
   ]
  },
  {
   "cell_type": "code",
   "execution_count": 16,
   "id": "0cfe0f5a",
   "metadata": {},
   "outputs": [
    {
     "name": "stderr",
     "output_type": "stream",
     "text": [
      "C:\\Users\\walid\\AppData\\Local\\Temp\\ipykernel_11728\\1686300632.py:1: SettingWithCopyWarning: \n",
      "A value is trying to be set on a copy of a slice from a DataFrame\n",
      "\n",
      "See the caveats in the documentation: https://pandas.pydata.org/pandas-docs/stable/user_guide/indexing.html#returning-a-view-versus-a-copy\n",
      "  df.drop(['MPAA_Rating'],axis=1,inplace=True)\n"
     ]
    }
   ],
   "source": [
    "df.drop(['MPAA_Rating'],axis=1,inplace=True)"
   ]
  },
  {
   "cell_type": "code",
   "execution_count": 17,
   "id": "059bf7b0",
   "metadata": {},
   "outputs": [
    {
     "data": {
      "text/plain": [
       "title               0\n",
       "Rate                0\n",
       "No_of_Ratings       0\n",
       "Format              0\n",
       "ReleaseYear         0\n",
       "Directed_By         0\n",
       "Starring            1\n",
       "Price            1009\n",
       "dtype: int64"
      ]
     },
     "execution_count": 17,
     "metadata": {},
     "output_type": "execute_result"
    }
   ],
   "source": [
    "df.isna().sum()"
   ]
  },
  {
   "cell_type": "code",
   "execution_count": 18,
   "id": "32967c91",
   "metadata": {},
   "outputs": [],
   "source": [
    "df = df.dropna(subset=['Starring'])"
   ]
  },
  {
   "cell_type": "code",
   "execution_count": 19,
   "id": "f83919e7",
   "metadata": {},
   "outputs": [],
   "source": [
    "df['Price'].fillna(method='ffill', inplace=True)"
   ]
  },
  {
   "cell_type": "code",
   "execution_count": 20,
   "id": "3f11201d",
   "metadata": {},
   "outputs": [
    {
     "data": {
      "text/plain": [
       "3.99     618\n",
       "3.79     457\n",
       "2.99     219\n",
       "3.59     141\n",
       "1.99      76\n",
       "5.99      70\n",
       "3.89      45\n",
       "2.89      44\n",
       "0.99      37\n",
       "19.99     23\n",
       "4.29      23\n",
       "3.39      17\n",
       "12.99     15\n",
       "3.09      15\n",
       "3.49      14\n",
       "4.99      14\n",
       "3.29      13\n",
       "9.99      12\n",
       "4.19      11\n",
       "14.99     11\n",
       "3.00       9\n",
       "3.19       8\n",
       "3.69       7\n",
       "5.89       7\n",
       "7.99       6\n",
       "17.99      5\n",
       "6.99       5\n",
       "0.89       4\n",
       "2.79       4\n",
       "4.49       3\n",
       "2.29       3\n",
       "1.79       3\n",
       "4.59       2\n",
       "2.49       1\n",
       "5.29       1\n",
       "4.69       1\n",
       "2.69       1\n",
       "8.79       1\n",
       "14.69      1\n",
       "24.99      1\n",
       "7.79       1\n",
       "Name: Price, dtype: int64"
      ]
     },
     "execution_count": 20,
     "metadata": {},
     "output_type": "execute_result"
    }
   ],
   "source": [
    "df['Price'].value_counts()"
   ]
  },
  {
   "cell_type": "code",
   "execution_count": 21,
   "id": "05746ff2",
   "metadata": {},
   "outputs": [
    {
     "data": {
      "text/plain": [
       "0        True\n",
       "1       False\n",
       "2       False\n",
       "3       False\n",
       "4       False\n",
       "        ...  \n",
       "2067    False\n",
       "2081    False\n",
       "2084    False\n",
       "2106    False\n",
       "2107    False\n",
       "Name: Price, Length: 1950, dtype: bool"
      ]
     },
     "execution_count": 21,
     "metadata": {},
     "output_type": "execute_result"
    }
   ],
   "source": [
    "df['Price'].isna()"
   ]
  },
  {
   "cell_type": "code",
   "execution_count": 22,
   "id": "e9654ebc",
   "metadata": {},
   "outputs": [],
   "source": [
    "df.dropna(subset=['Price'], inplace=True)"
   ]
  },
  {
   "cell_type": "code",
   "execution_count": 24,
   "id": "54e7784c",
   "metadata": {},
   "outputs": [
    {
     "data": {
      "text/html": [
       "<div>\n",
       "<style scoped>\n",
       "    .dataframe tbody tr th:only-of-type {\n",
       "        vertical-align: middle;\n",
       "    }\n",
       "\n",
       "    .dataframe tbody tr th {\n",
       "        vertical-align: top;\n",
       "    }\n",
       "\n",
       "    .dataframe thead th {\n",
       "        text-align: right;\n",
       "    }\n",
       "</style>\n",
       "<table border=\"1\" class=\"dataframe\">\n",
       "  <thead>\n",
       "    <tr style=\"text-align: right;\">\n",
       "      <th></th>\n",
       "      <th>title</th>\n",
       "      <th>Rate</th>\n",
       "      <th>No_of_Ratings</th>\n",
       "      <th>Format</th>\n",
       "      <th>ReleaseYear</th>\n",
       "      <th>Directed_By</th>\n",
       "      <th>Starring</th>\n",
       "      <th>Price</th>\n",
       "    </tr>\n",
       "  </thead>\n",
       "  <tbody>\n",
       "    <tr>\n",
       "      <th>1</th>\n",
       "      <td>Guy Ritchie's The Covenant</td>\n",
       "      <td>4.7</td>\n",
       "      <td>13268</td>\n",
       "      <td>Prime Video</td>\n",
       "      <td>2023.0</td>\n",
       "      <td>Guy Ritchie</td>\n",
       "      <td>Jake Gyllenhaal,Dar Salim,Antony Starr</td>\n",
       "      <td>5.99</td>\n",
       "    </tr>\n",
       "    <tr>\n",
       "      <th>2</th>\n",
       "      <td>A Million Miles Away</td>\n",
       "      <td>4.9</td>\n",
       "      <td>1126</td>\n",
       "      <td>Prime Video</td>\n",
       "      <td>2023.0</td>\n",
       "      <td>Alejandra MÃ¡rquez Abella</td>\n",
       "      <td>Michael PeÃ±a,Rosa Salazar</td>\n",
       "      <td>5.99</td>\n",
       "    </tr>\n",
       "    <tr>\n",
       "      <th>3</th>\n",
       "      <td>Kelce</td>\n",
       "      <td>5.0</td>\n",
       "      <td>570</td>\n",
       "      <td>Prime Video</td>\n",
       "      <td>2023.0</td>\n",
       "      <td>Don Argott</td>\n",
       "      <td>Jason Kelce,Travis Kelce,Kylie Kelce,Connor Ba...</td>\n",
       "      <td>5.99</td>\n",
       "    </tr>\n",
       "    <tr>\n",
       "      <th>4</th>\n",
       "      <td>Despicable Me 3</td>\n",
       "      <td>4.8</td>\n",
       "      <td>31813</td>\n",
       "      <td>Prime Video</td>\n",
       "      <td>2017.0</td>\n",
       "      <td>Pierre Coffin,Kyle Balda</td>\n",
       "      <td>Steve Carell,Kristen Wiig,Trey Parker</td>\n",
       "      <td>5.99</td>\n",
       "    </tr>\n",
       "    <tr>\n",
       "      <th>5</th>\n",
       "      <td>Those Who Wish Me Dead</td>\n",
       "      <td>4.3</td>\n",
       "      <td>7403</td>\n",
       "      <td>Prime Video</td>\n",
       "      <td>2021.0</td>\n",
       "      <td>Taylor Sheridan</td>\n",
       "      <td>Angelina Jolie,Nicholas Hoult,Jon Bernthal</td>\n",
       "      <td>3.79</td>\n",
       "    </tr>\n",
       "    <tr>\n",
       "      <th>...</th>\n",
       "      <td>...</td>\n",
       "      <td>...</td>\n",
       "      <td>...</td>\n",
       "      <td>...</td>\n",
       "      <td>...</td>\n",
       "      <td>...</td>\n",
       "      <td>...</td>\n",
       "      <td>...</td>\n",
       "    </tr>\n",
       "    <tr>\n",
       "      <th>2067</th>\n",
       "      <td>Repentance</td>\n",
       "      <td>4.0</td>\n",
       "      <td>1779</td>\n",
       "      <td>Prime Video</td>\n",
       "      <td>2013.0</td>\n",
       "      <td>Philippe Caland</td>\n",
       "      <td>Forest Whitaker,Anthony Mackie,Mike Epps,Sanaa...</td>\n",
       "      <td>3.79</td>\n",
       "    </tr>\n",
       "    <tr>\n",
       "      <th>2081</th>\n",
       "      <td>The Greatest</td>\n",
       "      <td>4.2</td>\n",
       "      <td>176</td>\n",
       "      <td>Prime Video</td>\n",
       "      <td>2009.0</td>\n",
       "      <td>Shana Feste</td>\n",
       "      <td>Carey Mulligan,Pierce Brosnan,Susan Sarandon</td>\n",
       "      <td>3.79</td>\n",
       "    </tr>\n",
       "    <tr>\n",
       "      <th>2084</th>\n",
       "      <td>Mission: Impossible IV - Ghost Protocol</td>\n",
       "      <td>4.6</td>\n",
       "      <td>9122</td>\n",
       "      <td>Prime Video</td>\n",
       "      <td>2011.0</td>\n",
       "      <td>Brad Bird</td>\n",
       "      <td>Tom Cruise,Jeremy Renner,Simon Pegg,Paula Patton</td>\n",
       "      <td>3.99</td>\n",
       "    </tr>\n",
       "    <tr>\n",
       "      <th>2106</th>\n",
       "      <td>Honey Boy</td>\n",
       "      <td>4.4</td>\n",
       "      <td>1338</td>\n",
       "      <td>Prime Video</td>\n",
       "      <td>2019.0</td>\n",
       "      <td>Alma Harâ€™el</td>\n",
       "      <td>Shia LaBeouf,Lucas Hedges,Noah Jupe,FKA twigs</td>\n",
       "      <td>3.99</td>\n",
       "    </tr>\n",
       "    <tr>\n",
       "      <th>2107</th>\n",
       "      <td>Jumanji: Welcome to the Jungle</td>\n",
       "      <td>4.7</td>\n",
       "      <td>96699</td>\n",
       "      <td>Prime Video</td>\n",
       "      <td>2017.0</td>\n",
       "      <td>Jake Kasdan</td>\n",
       "      <td>Dwayne Johnson,Kevin Hart,Jack Black,Karen Gillan</td>\n",
       "      <td>3.59</td>\n",
       "    </tr>\n",
       "  </tbody>\n",
       "</table>\n",
       "<p>1949 rows × 8 columns</p>\n",
       "</div>"
      ],
      "text/plain": [
       "                                        title  Rate  No_of_Ratings  \\\n",
       "1                  Guy Ritchie's The Covenant   4.7          13268   \n",
       "2                        A Million Miles Away   4.9           1126   \n",
       "3                                       Kelce   5.0            570   \n",
       "4                             Despicable Me 3   4.8          31813   \n",
       "5                      Those Who Wish Me Dead   4.3           7403   \n",
       "...                                       ...   ...            ...   \n",
       "2067                               Repentance   4.0           1779   \n",
       "2081                             The Greatest   4.2            176   \n",
       "2084  Mission: Impossible IV - Ghost Protocol   4.6           9122   \n",
       "2106                                Honey Boy   4.4           1338   \n",
       "2107           Jumanji: Welcome to the Jungle   4.7          96699   \n",
       "\n",
       "           Format  ReleaseYear                Directed_By  \\\n",
       "1     Prime Video       2023.0                Guy Ritchie   \n",
       "2     Prime Video       2023.0  Alejandra MÃ¡rquez Abella   \n",
       "3     Prime Video       2023.0                 Don Argott   \n",
       "4     Prime Video       2017.0   Pierre Coffin,Kyle Balda   \n",
       "5     Prime Video       2021.0            Taylor Sheridan   \n",
       "...           ...          ...                        ...   \n",
       "2067  Prime Video       2013.0            Philippe Caland   \n",
       "2081  Prime Video       2009.0                Shana Feste   \n",
       "2084  Prime Video       2011.0                  Brad Bird   \n",
       "2106  Prime Video       2019.0              Alma Harâ€™el   \n",
       "2107  Prime Video       2017.0                Jake Kasdan   \n",
       "\n",
       "                                               Starring  Price  \n",
       "1                Jake Gyllenhaal,Dar Salim,Antony Starr   5.99  \n",
       "2                            Michael PeÃ±a,Rosa Salazar   5.99  \n",
       "3     Jason Kelce,Travis Kelce,Kylie Kelce,Connor Ba...   5.99  \n",
       "4                 Steve Carell,Kristen Wiig,Trey Parker   5.99  \n",
       "5            Angelina Jolie,Nicholas Hoult,Jon Bernthal   3.79  \n",
       "...                                                 ...    ...  \n",
       "2067  Forest Whitaker,Anthony Mackie,Mike Epps,Sanaa...   3.79  \n",
       "2081       Carey Mulligan,Pierce Brosnan,Susan Sarandon   3.79  \n",
       "2084   Tom Cruise,Jeremy Renner,Simon Pegg,Paula Patton   3.99  \n",
       "2106      Shia LaBeouf,Lucas Hedges,Noah Jupe,FKA twigs   3.99  \n",
       "2107  Dwayne Johnson,Kevin Hart,Jack Black,Karen Gillan   3.59  \n",
       "\n",
       "[1949 rows x 8 columns]"
      ]
     },
     "execution_count": 24,
     "metadata": {},
     "output_type": "execute_result"
    }
   ],
   "source": [
    "df"
   ]
  },
  {
   "cell_type": "code",
   "execution_count": 25,
   "id": "cff66680",
   "metadata": {},
   "outputs": [
    {
     "data": {
      "text/plain": [
       "title            0\n",
       "Rate             0\n",
       "No_of_Ratings    0\n",
       "Format           0\n",
       "ReleaseYear      0\n",
       "Directed_By      0\n",
       "Starring         0\n",
       "Price            0\n",
       "dtype: int64"
      ]
     },
     "execution_count": 25,
     "metadata": {},
     "output_type": "execute_result"
    }
   ],
   "source": [
    "df.isna().sum()"
   ]
  },
  {
   "cell_type": "code",
   "execution_count": 23,
   "id": "49166068",
   "metadata": {},
   "outputs": [
    {
     "data": {
      "text/plain": [
       "title             object\n",
       "Rate             float64\n",
       "No_of_Ratings      int64\n",
       "Format            object\n",
       "ReleaseYear      float64\n",
       "Directed_By       object\n",
       "Starring          object\n",
       "Price            float64\n",
       "dtype: object"
      ]
     },
     "execution_count": 23,
     "metadata": {},
     "output_type": "execute_result"
    }
   ],
   "source": [
    "df.dtypes"
   ]
  },
  {
   "cell_type": "code",
   "execution_count": 26,
   "id": "3ba7c3db",
   "metadata": {},
   "outputs": [],
   "source": [
    "df.to_csv('Amazon.csv')"
   ]
  },
  {
   "cell_type": "code",
   "execution_count": null,
   "id": "c482e080",
   "metadata": {},
   "outputs": [],
   "source": []
  },
  {
   "cell_type": "code",
   "execution_count": null,
   "id": "493eda54",
   "metadata": {},
   "outputs": [],
   "source": []
  }
 ],
 "metadata": {
  "kernelspec": {
   "display_name": "Python 3 (ipykernel)",
   "language": "python",
   "name": "python3"
  },
  "language_info": {
   "codemirror_mode": {
    "name": "ipython",
    "version": 3
   },
   "file_extension": ".py",
   "mimetype": "text/x-python",
   "name": "python",
   "nbconvert_exporter": "python",
   "pygments_lexer": "ipython3",
   "version": "3.11.4"
  }
 },
 "nbformat": 4,
 "nbformat_minor": 5
}
